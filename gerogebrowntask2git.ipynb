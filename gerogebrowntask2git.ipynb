{
  "cells": [
    {
      "cell_type": "markdown",
      "metadata": {
        "id": "IKIPSfPzBVJm"
      },
      "source": [
        "# Python script to scrape an article given the url of the article and store the extracted text in a file\n",
        "# Url: https://medium.com/@subashgandyer/papa-what-is-a-neural-network-c5e5cc427c7\n"
      ]
    },
    {
      "cell_type": "code",
      "execution_count": 2,
      "metadata": {
        "id": "Ylqqns3GBfAt"
      },
      "outputs": [],
      "source": [
        "import os\n",
        "from urllib import request\n",
        "import requests\n",
        "import re\n",
        "# Code here - Import BeautifulSoup library\n",
        "from bs4 import BeautifulSoup"
      ]
    },
    {
      "cell_type": "markdown",
      "metadata": {
        "id": "DOfu-AU1BmRQ"
      },
      "source": [
        "# function to get the html source text of the medium article\n"
      ]
    },
    {
      "cell_type": "code",
      "execution_count": 1,
      "metadata": {
        "id": "_7yoPudRBpL_"
      },
      "outputs": [],
      "source": [
        "def get_page():\n",
        "\tglobal url\n",
        "\t# Code here - Ask the user to input \"Enter url of a medium article: \" and collect it in url\n",
        "\turl= input(\"Please enter a url for get the html content:\")\n",
        "\t# Code ends here\n",
        "\n",
        "\t# handling possible error\n",
        "\tif not re.match(r'https?://medium.com/',url):\n",
        "\t\tprint('Please enter a valid website, or make sure it is a medium article')\n",
        "\t\tsys.exit(1)\n",
        "\n",
        "\t# Code here - Call get method in requests object, pass url and collect it in res\n",
        "\tres = requests.get(url)\n",
        "\t# Code ends here\n",
        "\n",
        "\tres.raise_for_status()\n",
        "\tsoup = BeautifulSoup(res.text, 'html.parser')"
      ]
    },
    {
      "cell_type": "markdown",
      "metadata": {
        "id": "QM-JUaQeBwJ6"
      },
      "source": [
        "# function to remove all the html tags and replace some with specific strings\n"
      ]
    },
    {
      "cell_type": "code",
      "execution_count": null,
      "metadata": {
        "id": "cpvZZ31MBxJM"
      },
      "outputs": [],
      "source": [
        "def clean(text):\n",
        "    rep = {\"<br>\": \"\\n\", \"<br/>\": \"\\n\", \"<li>\":  \"\\n\"}\n",
        "    rep = dict((re.escape(k), v) for k, v in rep.items())\n",
        "    pattern = re.compile(\"|\".join(rep.keys()))\n",
        "    text = pattern.sub(lambda m: rep[re.escape(m.group(0))], text)\n",
        "    text = re.sub('\\<(.*?)\\>', '', text)\n",
        "    return text"
      ]
    },
    {
      "cell_type": "markdown",
      "metadata": {
        "id": "vq9-HnjzB-yh"
      },
      "source": [
        "# function to ccollect the text from the web site"
      ]
    },
    {
      "cell_type": "code",
      "execution_count": null,
      "metadata": {
        "id": "aFWnaLkGB0aM"
      },
      "outputs": [],
      "source": [
        "def collect_text(soup):\n",
        "\ttext = f'url: {url}\\n\\n'\n",
        "\tpara_text = soup.find_all('p')\n",
        "\tprint(f\"paragraphs text = \\n {para_text}\")\n",
        "\tfor para in para_text:\n",
        "\t\ttext += f\"{para.text}\\n\\n\"\n",
        "\treturn text"
      ]
    },
    {
      "cell_type": "markdown",
      "metadata": {
        "id": "jeGo2FkHCh0a"
      },
      "source": [
        "# function to save file in the current directory\n"
      ]
    },
    {
      "cell_type": "code",
      "execution_count": null,
      "metadata": {
        "id": "IxBHZlugCkbs"
      },
      "outputs": [],
      "source": [
        "def save_file(text):\n",
        "\tif not os.path.exists('./scraped_articles'):\n",
        "\t\tos.mkdir('./scraped_articles')\n",
        "\tname = url.split(\"/\")[-1]\n",
        "\tprint(name)\n",
        "\tfname = f'scraped_articles/{name}.txt'\n",
        "\twith open(fname, 'w') as file:\n",
        "\t\tfile.write(text)\n",
        "  \t# Code ends here!\n",
        "    print(f'File saved in directory {fname}')\n",
        "\n"
      ]
    },
    {
      "cell_type": "markdown",
      "metadata": {
        "id": "WGaM1zJaCvFn"
      },
      "source": [
        "# the execution of the script"
      ]
    },
    {
      "cell_type": "code",
      "execution_count": null,
      "metadata": {
        "id": "eoxjjaK_CzO8"
      },
      "outputs": [],
      "source": [
        "if __name__ == '__main__':\n",
        "\ttext = collect_text(get_page())\n",
        "\tsave_file(text)\n",
        "\t# Instructions to Run this python code\n",
        "\t# Give url as https://medium.com/@subashgandyer/papa-what-is-a-neural-network-c5e5cc427c7"
      ]
    }
  ],
  "metadata": {
    "colab": {
      "provenance": []
    },
    "kernelspec": {
      "display_name": "Python 3",
      "name": "python3"
    },
    "language_info": {
      "name": "python"
    }
  },
  "nbformat": 4,
  "nbformat_minor": 0
}
