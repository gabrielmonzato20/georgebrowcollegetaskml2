{
  "nbformat": 4,
  "nbformat_minor": 0,
  "metadata": {
    "colab": {
      "provenance": []
    },
    "kernelspec": {
      "name": "python3",
      "display_name": "Python 3"
    },
    "language_info": {
      "name": "python"
    }
  },
  "cells": [
    {
      "cell_type": "markdown",
      "source": [
        "# Python script to scrape an article given the url of the article and store the extracted text in a file\n",
        "# Url: https://medium.com/@subashgandyer/papa-what-is-a-neural-network-c5e5cc427c7\n"
      ],
      "metadata": {
        "id": "IKIPSfPzBVJm"
      }
    },
    {
      "cell_type": "code",
      "source": [
        "import os\n",
        "from urllib import request\n",
        "import requests\n",
        "import re\n",
        "# Code here - Import BeautifulSoup library\n",
        "from bs4 import BeautifulSoup"
      ],
      "metadata": {
        "id": "Ylqqns3GBfAt"
      },
      "execution_count": 2,
      "outputs": []
    },
    {
      "cell_type": "markdown",
      "source": [
        "# function to get the html source text of the medium article\n"
      ],
      "metadata": {
        "id": "DOfu-AU1BmRQ"
      }
    },
    {
      "cell_type": "code",
      "source": [
        "def get_page():\n",
        "\tglobal url\n",
        "\t# Code here - Ask the user to input \"Enter url of a medium article: \" and collect it in url\n",
        "\turl= input(\"Please enter a url for get the html content:\")\n",
        "\t# Code ends here\n",
        "\n",
        "\t# handling possible error\n",
        "\tif not re.match(r'https?://medium.com/',url):\n",
        "\t\tprint('Please enter a valid website, or make sure it is a medium article')\n",
        "\t\tsys.exit(1)\n",
        "\n",
        "\t# Code here - Call get method in requests object, pass url and collect it in res\n",
        "\tres = requests.get(url)\n",
        "\t# Code ends here\n",
        "\n",
        "\tres.raise_for_status()\n",
        "\tsoup = BeautifulSoup(res.text, 'html.parser')"
      ],
      "metadata": {
        "id": "_7yoPudRBpL_"
      },
      "execution_count": 1,
      "outputs": []
    },
    {
      "cell_type": "markdown",
      "source": [
        "# function to remove all the html tags and replace some with specific strings\n"
      ],
      "metadata": {
        "id": "QM-JUaQeBwJ6"
      }
    },
    {
      "cell_type": "code",
      "source": [
        "def clean(text):\n",
        "    rep = {\"<br>\": \"\\n\", \"<br/>\": \"\\n\", \"<li>\":  \"\\n\"}\n",
        "    rep = dict((re.escape(k), v) for k, v in rep.items())\n",
        "    pattern = re.compile(\"|\".join(rep.keys()))\n",
        "    text = pattern.sub(lambda m: rep[re.escape(m.group(0))], text)\n",
        "    text = re.sub('\\<(.*?)\\>', '', text)\n",
        "    return text"
      ],
      "metadata": {
        "id": "cpvZZ31MBxJM"
      },
      "execution_count": null,
      "outputs": []
    },
    {
      "cell_type": "markdown",
      "source": [
        "# function to ccollect the text from the web site"
      ],
      "metadata": {
        "id": "vq9-HnjzB-yh"
      }
    },
    {
      "cell_type": "code",
      "source": [
        "def collect_text(soup):\n",
        "\ttext = f'url: {url}\\n\\n'\n",
        "\tpara_text = soup.find_all('p')\n",
        "\tprint(f\"paragraphs text = \\n {para_text}\")\n",
        "\tfor para in para_text:\n",
        "\t\ttext += f\"{para.text}\\n\\n\"\n",
        "\treturn text"
      ],
      "metadata": {
        "id": "aFWnaLkGB0aM"
      },
      "execution_count": null,
      "outputs": []
    },
    {
      "cell_type": "markdown",
      "source": [
        "# function to save file in the current directory\n"
      ],
      "metadata": {
        "id": "jeGo2FkHCh0a"
      }
    },
    {
      "cell_type": "code",
      "source": [
        "def save_file(text):\n",
        "\tif not os.path.exists('./scraped_articles'):\n",
        "\t\tos.mkdir('./scraped_articles')\n",
        "\tname = url.split(\"/\")[-1]\n",
        "\tprint(name)\n",
        "\tfname = f'scraped_articles/{name}.txt'\n",
        "\twith open(fname, 'w') as file:\n",
        "\t\tfile.write(text)\n",
        "  \t# Code ends here\n",
        "    print(f'File saved in directory {fname}')\n",
        "\n"
      ],
      "metadata": {
        "id": "IxBHZlugCkbs"
      },
      "execution_count": null,
      "outputs": []
    },
    {
      "cell_type": "markdown",
      "source": [
        "# the execution of the script"
      ],
      "metadata": {
        "id": "WGaM1zJaCvFn"
      }
    },
    {
      "cell_type": "code",
      "source": [
        "if __name__ == '__main__':\n",
        "\ttext = collect_text(get_page())\n",
        "\tsave_file(text)\n",
        "\t# Instructions to Run this python code\n",
        "\t# Give url as https://medium.com/@subashgandyer/papa-what-is-a-neural-network-c5e5cc427c7"
      ],
      "metadata": {
        "id": "eoxjjaK_CzO8"
      },
      "execution_count": null,
      "outputs": []
    }
  ]
}